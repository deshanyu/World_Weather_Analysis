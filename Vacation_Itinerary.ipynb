{
 "cells": [
  {
   "cell_type": "code",
   "execution_count": 42,
   "metadata": {},
   "outputs": [],
   "source": [
    "# Import the dependencies.\n",
    "import pandas as pd\n",
    "import gmaps\n",
    "import requests\n",
    "import numpy as np\n",
    "# Import the API key.\n",
    "from config import g_key\n",
    "# Configure gmaps to use your Google API key.\n",
    "gmaps.configure(api_key=g_key)"
   ]
  },
  {
   "cell_type": "code",
   "execution_count": 84,
   "metadata": {},
   "outputs": [
    {
     "data": {
      "text/html": [
       "<div>\n",
       "<style scoped>\n",
       "    .dataframe tbody tr th:only-of-type {\n",
       "        vertical-align: middle;\n",
       "    }\n",
       "\n",
       "    .dataframe tbody tr th {\n",
       "        vertical-align: top;\n",
       "    }\n",
       "\n",
       "    .dataframe thead th {\n",
       "        text-align: right;\n",
       "    }\n",
       "</style>\n",
       "<table border=\"1\" class=\"dataframe\">\n",
       "  <thead>\n",
       "    <tr style=\"text-align: right;\">\n",
       "      <th></th>\n",
       "      <th>City_ID</th>\n",
       "      <th>City</th>\n",
       "      <th>Country</th>\n",
       "      <th>Current Description</th>\n",
       "      <th>Max Temp</th>\n",
       "      <th>Lat</th>\n",
       "      <th>Lng</th>\n",
       "      <th>Hotel Name</th>\n",
       "    </tr>\n",
       "  </thead>\n",
       "  <tbody>\n",
       "    <tr>\n",
       "      <th>0</th>\n",
       "      <td>18</td>\n",
       "      <td>Hobart</td>\n",
       "      <td>AU</td>\n",
       "      <td>light intensity shower rain</td>\n",
       "      <td>53.60</td>\n",
       "      <td>-42.88</td>\n",
       "      <td>147.33</td>\n",
       "      <td>St Ives Apartments</td>\n",
       "    </tr>\n",
       "    <tr>\n",
       "      <th>1</th>\n",
       "      <td>28</td>\n",
       "      <td>Ko Samui</td>\n",
       "      <td>TH</td>\n",
       "      <td>moderate rain</td>\n",
       "      <td>83.46</td>\n",
       "      <td>9.54</td>\n",
       "      <td>99.94</td>\n",
       "      <td>The Passage Samui Villas &amp; Resort, Thailand</td>\n",
       "    </tr>\n",
       "    <tr>\n",
       "      <th>2</th>\n",
       "      <td>33</td>\n",
       "      <td>Shimoda</td>\n",
       "      <td>JP</td>\n",
       "      <td>heavy intensity rain</td>\n",
       "      <td>63.00</td>\n",
       "      <td>34.67</td>\n",
       "      <td>138.95</td>\n",
       "      <td>Shimoda Tokyu Hotel</td>\n",
       "    </tr>\n",
       "    <tr>\n",
       "      <th>3</th>\n",
       "      <td>39</td>\n",
       "      <td>Hamilton</td>\n",
       "      <td>US</td>\n",
       "      <td>light rain</td>\n",
       "      <td>75.00</td>\n",
       "      <td>39.18</td>\n",
       "      <td>-84.53</td>\n",
       "      <td>Six Acres Bed &amp; Breakfast</td>\n",
       "    </tr>\n",
       "    <tr>\n",
       "      <th>4</th>\n",
       "      <td>49</td>\n",
       "      <td>Hirara</td>\n",
       "      <td>JP</td>\n",
       "      <td>light rain</td>\n",
       "      <td>83.64</td>\n",
       "      <td>24.80</td>\n",
       "      <td>125.28</td>\n",
       "      <td>Hotel Atoll Emerald Miyakojima</td>\n",
       "    </tr>\n",
       "  </tbody>\n",
       "</table>\n",
       "</div>"
      ],
      "text/plain": [
       "   City_ID      City Country          Current Description  Max Temp    Lat  \\\n",
       "0       18    Hobart      AU  light intensity shower rain     53.60 -42.88   \n",
       "1       28  Ko Samui      TH                moderate rain     83.46   9.54   \n",
       "2       33   Shimoda      JP         heavy intensity rain     63.00  34.67   \n",
       "3       39  Hamilton      US                   light rain     75.00  39.18   \n",
       "4       49    Hirara      JP                   light rain     83.64  24.80   \n",
       "\n",
       "      Lng                                   Hotel Name  \n",
       "0  147.33                           St Ives Apartments  \n",
       "1   99.94  The Passage Samui Villas & Resort, Thailand  \n",
       "2  138.95                          Shimoda Tokyu Hotel  \n",
       "3  -84.53                    Six Acres Bed & Breakfast  \n",
       "4  125.28               Hotel Atoll Emerald Miyakojima  "
      ]
     },
     "execution_count": 84,
     "metadata": {},
     "output_type": "execute_result"
    }
   ],
   "source": [
    "# Store the CSV you saved created in part one into a DataFrame.\n",
    "weather_data_df = pd.read_csv(\"weather_data/WeatherPy_vacation.csv\")\n",
    "weather_data_df.head()"
   ]
  },
  {
   "cell_type": "code",
   "execution_count": 101,
   "metadata": {},
   "outputs": [
    {
     "data": {
      "text/html": [
       "<div>\n",
       "<style scoped>\n",
       "    .dataframe tbody tr th:only-of-type {\n",
       "        vertical-align: middle;\n",
       "    }\n",
       "\n",
       "    .dataframe tbody tr th {\n",
       "        vertical-align: top;\n",
       "    }\n",
       "\n",
       "    .dataframe thead th {\n",
       "        text-align: right;\n",
       "    }\n",
       "</style>\n",
       "<table border=\"1\" class=\"dataframe\">\n",
       "  <thead>\n",
       "    <tr style=\"text-align: right;\">\n",
       "      <th></th>\n",
       "      <th>City</th>\n",
       "      <th>City_ID</th>\n",
       "      <th>Country</th>\n",
       "      <th>Current Description</th>\n",
       "      <th>Max Temp</th>\n",
       "      <th>Lat</th>\n",
       "      <th>Lng</th>\n",
       "      <th>Hotel Name</th>\n",
       "    </tr>\n",
       "  </thead>\n",
       "  <tbody>\n",
       "    <tr>\n",
       "      <th>0</th>\n",
       "      <td>Rapid Valley</td>\n",
       "      <td>532</td>\n",
       "      <td>US</td>\n",
       "      <td>light rain</td>\n",
       "      <td>77.00</td>\n",
       "      <td>44.06</td>\n",
       "      <td>-103.15</td>\n",
       "      <td>Fairfield Inn &amp; Suites by Marriott Rapid City</td>\n",
       "    </tr>\n",
       "    <tr>\n",
       "      <th>1</th>\n",
       "      <td>Hamilton</td>\n",
       "      <td>39</td>\n",
       "      <td>US</td>\n",
       "      <td>light rain</td>\n",
       "      <td>75.00</td>\n",
       "      <td>39.18</td>\n",
       "      <td>-84.53</td>\n",
       "      <td>Six Acres Bed &amp; Breakfast</td>\n",
       "    </tr>\n",
       "    <tr>\n",
       "      <th>2</th>\n",
       "      <td>Albany</td>\n",
       "      <td>57</td>\n",
       "      <td>US</td>\n",
       "      <td>light rain</td>\n",
       "      <td>91.99</td>\n",
       "      <td>42.60</td>\n",
       "      <td>-73.97</td>\n",
       "      <td>NaN</td>\n",
       "    </tr>\n",
       "    <tr>\n",
       "      <th>3</th>\n",
       "      <td>Saint-Michel-Des-Saints</td>\n",
       "      <td>207</td>\n",
       "      <td>CA</td>\n",
       "      <td>light rain</td>\n",
       "      <td>87.01</td>\n",
       "      <td>46.68</td>\n",
       "      <td>-73.92</td>\n",
       "      <td>Motel Du Mont trinity</td>\n",
       "    </tr>\n",
       "  </tbody>\n",
       "</table>\n",
       "</div>"
      ],
      "text/plain": [
       "                      City  City_ID Country Current Description  Max Temp  \\\n",
       "0             Rapid Valley      532      US          light rain     77.00   \n",
       "1                 Hamilton       39      US          light rain     75.00   \n",
       "2                   Albany       57      US          light rain     91.99   \n",
       "3  Saint-Michel-Des-Saints      207      CA          light rain     87.01   \n",
       "\n",
       "     Lat     Lng                                     Hotel Name  \n",
       "0  44.06 -103.15  Fairfield Inn & Suites by Marriott Rapid City  \n",
       "1  39.18  -84.53                      Six Acres Bed & Breakfast  \n",
       "2  42.60  -73.97                                            NaN  \n",
       "3  46.68  -73.92                          Motel Du Mont trinity  "
      ]
     },
     "execution_count": 101,
     "metadata": {},
     "output_type": "execute_result"
    }
   ],
   "source": [
    "##choose 4 cities close to each other that you can create an itinerary off of\n",
    "cities = ['Rapid Valley','Hamilton','Albany','Saint-Michel-Des-Saints']\n",
    "\n",
    "\n",
    "my_itinerary = weather_data_df.loc[weather_data_df['City'].isin(cities)]\n",
    "my_itinerary = my_itinerary.set_index('City')\n",
    "\n",
    "my_itinerary = my_itinerary.loc[cities,:]\n",
    "\n",
    "my_itinerary = my_itinerary.reset_index()\n",
    "my_itinerary"
   ]
  },
  {
   "cell_type": "code",
   "execution_count": 110,
   "metadata": {},
   "outputs": [],
   "source": [
    "#Grab Lat/long coords for the 4 cities. NOTE. the order that we put them into the list is the order we'll travel. \n",
    "City1 = (my_itinerary['Lat'].iloc[0],my_itinerary['Lng'].iloc[0])\n",
    "City2 = (my_itinerary['Lat'].iloc[1],my_itinerary['Lng'].iloc[1])\n",
    "City3 = (my_itinerary['Lat'].iloc[2],my_itinerary['Lng'].iloc[2])\n",
    "City4 = (my_itinerary['Lat'].iloc[3],my_itinerary['Lng'].iloc[3])\n"
   ]
  },
  {
   "cell_type": "code",
   "execution_count": 116,
   "metadata": {},
   "outputs": [],
   "source": [
    "info_box_template = \"\"\"\n",
    "<dl>\n",
    "<dt>Hotel Name</dt><dd>{Hotel Name}</dd>\n",
    "<dt>City</dt><dd>{City}</dd>\n",
    "<dt>Country</dt><dd>{Country}</dd>\n",
    "<dt>Current Weather</dt><dd>{Current Description} and {Max Temp} °F</dd>\n",
    "</dl>\n",
    "\"\"\"\n",
    "# Store the DataFrame Row.\n",
    "hotel_info = [info_box_template.format(**row) for index, row in my_itinerary.iterrows()]"
   ]
  },
  {
   "cell_type": "code",
   "execution_count": 122,
   "metadata": {},
   "outputs": [
    {
     "data": {
      "application/vnd.jupyter.widget-view+json": {
       "model_id": "5f128f76c9c5463383853fe8416d5704",
       "version_major": 2,
       "version_minor": 0
      },
      "text/plain": [
       "Figure(layout=FigureLayout(height='420px'))"
      ]
     },
     "metadata": {},
     "output_type": "display_data"
    }
   ],
   "source": [
    "locations = my_itinerary[['Lat','Lng']]\n",
    "\n",
    "fig = gmaps.figure()\n",
    "itinerary_travel1 = gmaps.directions_layer(City1,City4,waypoints = [City2,City3],show_markers = False)\n",
    "marker_layer = gmaps.marker_layer(locations,label = ['1','2','3','4'], info_box_content=hotel_info)\n",
    "fig.add_layer(itinerary_travel1)\n",
    "fig.add_layer(marker_layer)\n",
    "fig"
   ]
  },
  {
   "cell_type": "code",
   "execution_count": null,
   "metadata": {},
   "outputs": [],
   "source": []
  },
  {
   "cell_type": "code",
   "execution_count": null,
   "metadata": {},
   "outputs": [],
   "source": []
  },
  {
   "cell_type": "code",
   "execution_count": null,
   "metadata": {},
   "outputs": [],
   "source": []
  },
  {
   "cell_type": "code",
   "execution_count": null,
   "metadata": {},
   "outputs": [],
   "source": []
  },
  {
   "cell_type": "code",
   "execution_count": null,
   "metadata": {},
   "outputs": [],
   "source": []
  },
  {
   "cell_type": "code",
   "execution_count": null,
   "metadata": {},
   "outputs": [],
   "source": []
  },
  {
   "cell_type": "code",
   "execution_count": null,
   "metadata": {},
   "outputs": [],
   "source": []
  },
  {
   "cell_type": "code",
   "execution_count": null,
   "metadata": {},
   "outputs": [],
   "source": []
  },
  {
   "cell_type": "code",
   "execution_count": null,
   "metadata": {},
   "outputs": [],
   "source": []
  }
 ],
 "metadata": {
  "kernelspec": {
   "display_name": "Python 3",
   "language": "python",
   "name": "python3"
  },
  "language_info": {
   "codemirror_mode": {
    "name": "ipython",
    "version": 3
   },
   "file_extension": ".py",
   "mimetype": "text/x-python",
   "name": "python",
   "nbconvert_exporter": "python",
   "pygments_lexer": "ipython3",
   "version": "3.7.7"
  }
 },
 "nbformat": 4,
 "nbformat_minor": 4
}
